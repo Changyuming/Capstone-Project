{
 "cells": [
  {
   "cell_type": "markdown",
   "id": "4fde081a",
   "metadata": {},
   "source": [
    "# Data Description"
   ]
  },
  {
   "cell_type": "markdown",
   "id": "bf53d359",
   "metadata": {},
   "source": [
    "We use public libraries and API's in this project. We use Foursquare API, Some common Python Libraries for programming."
   ]
  },
  {
   "cell_type": "markdown",
   "id": "5a453d70",
   "metadata": {},
   "source": [
    "# Foursquare API:"
   ]
  },
  {
   "cell_type": "markdown",
   "id": "cd71bb1f",
   "metadata": {},
   "source": [
    "Foursquare provides valuable and publicly accessible \n",
    "location information, such as facilities in nearby \n",
    "locations. I use their developer tools to access the\n",
    "required information about the city’s neighbors. Use \n",
    "the information from these visits and then rank the \n",
    "communities according to the level of comfort they \n",
    "have.\n",
    "These services are free.\n",
    "I created a Foursquare developer account and provided \n",
    "some zip codes within the city. For each zip code or \n",
    "LatLon information (latitude and longitude points), \n",
    "I extracted the details of the facilities we expect \n",
    "the community should have. Therefore, set the search\n",
    "radius around the postal code to approximately 2.5km."
   ]
  },
  {
   "cell_type": "markdown",
   "id": "d23f0d59",
   "metadata": {},
   "source": [
    "# Public Programming Tools:-"
   ]
  },
  {
   "cell_type": "markdown",
   "id": "8d1c834f",
   "metadata": {},
   "source": [
    "We use some public drawing tools to visualize the \n",
    "communities in the city we want to know. Then based \n",
    "on the analysis of Foursquare information, we can \n",
    "update the Folium visualization to reflect the number \n",
    "of amenities in the community."
   ]
  },
  {
   "cell_type": "markdown",
   "id": "2a16a3fe",
   "metadata": {},
   "source": [
    "# Clustering Algorithm on the Data"
   ]
  },
  {
   "cell_type": "markdown",
   "id": "32d0cfd2",
   "metadata": {},
   "source": [
    "Using the K-Means clustering algorithm to group \n",
    "convenience facilities in an area, we can then \n",
    "reduce the number of individual convenience facility \n",
    "comparisons for each community. We can compare various \n",
    "convenience facilities individually, collectively or \n",
    "all."
   ]
  },
  {
   "cell_type": "code",
   "execution_count": null,
   "id": "69977cfe",
   "metadata": {},
   "outputs": [],
   "source": []
  }
 ],
 "metadata": {
  "kernelspec": {
   "display_name": "Python 3 (ipykernel)",
   "language": "python",
   "name": "python3"
  },
  "language_info": {
   "codemirror_mode": {
    "name": "ipython",
    "version": 3
   },
   "file_extension": ".py",
   "mimetype": "text/x-python",
   "name": "python",
   "nbconvert_exporter": "python",
   "pygments_lexer": "ipython3",
   "version": "3.7.10"
  }
 },
 "nbformat": 4,
 "nbformat_minor": 5
}

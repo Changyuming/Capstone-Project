{
 "cells": [
  {
   "cell_type": "markdown",
   "id": "3eeafa99",
   "metadata": {},
   "source": [
    "# Project Description"
   ]
  },
  {
   "cell_type": "markdown",
   "id": "0a50449b",
   "metadata": {},
   "source": [
    "## Finding a nice place to live in."
   ]
  },
  {
   "cell_type": "markdown",
   "id": "b5eeca11",
   "metadata": {},
   "source": [
    "Most people during their life, have at least made a \n",
    "single change of living location due to personal or \n",
    "professional reasons. However finding a place where \n",
    "all the personal needs are met is highly difficult.\n",
    "Some people enjoy doing the detailed analysis by hand \n",
    "thereby figuring out following information like,\n",
    "the average rent in a neighborhood,\n",
    "transport amenities (both public and private),\n",
    "average commute time from that neighborhood to work place,\n",
    "nearest hospitals,crime rates,police or communal violence,\n",
    "public health crisis in the last few years,tax rates\n",
    "public places like parks,places to have leisure sctivities \n",
    "like going to restaurants, movie theaters, saunas, gym, etc.,\n",
    "\n",
    "These are few things to consider during a relocation \n",
    "and they are very important for a healthy and stress \n",
    "free life. And doing an Online search for these is time \n",
    "consuming. In this project, we aim to meet atleast some \n",
    "common requirements and guide the project users to choose\n",
    "atleast 1 or more neighborhoods for their consideration\n",
    "during their relocation. By rating the neighborhoods \n",
    "based upon the available amenities they have, we can \n",
    "recommend the neighborhood in a city in a ranked order."
   ]
  },
  {
   "cell_type": "code",
   "execution_count": null,
   "id": "69f5db24",
   "metadata": {},
   "outputs": [],
   "source": []
  }
 ],
 "metadata": {
  "kernelspec": {
   "display_name": "Python 3 (ipykernel)",
   "language": "python",
   "name": "python3"
  },
  "language_info": {
   "codemirror_mode": {
    "name": "ipython",
    "version": 3
   },
   "file_extension": ".py",
   "mimetype": "text/x-python",
   "name": "python",
   "nbconvert_exporter": "python",
   "pygments_lexer": "ipython3",
   "version": "3.7.10"
  }
 },
 "nbformat": 4,
 "nbformat_minor": 5
}
